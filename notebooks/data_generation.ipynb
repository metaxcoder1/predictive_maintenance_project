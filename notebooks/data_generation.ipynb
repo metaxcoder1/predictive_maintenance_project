{
 "cells": [
  {
   "cell_type": "code",
   "execution_count": null,
   "id": "d272ef67-c038-4135-a4ee-f811ad336a44",
   "metadata": {},
   "outputs": [],
   "source": [
    "# Jupyter Notebook to generate synthetic data\n",
    "import pandas as pd\n",
    "import numpy as np\n",
    "\n",
    "data = {\n",
    "    'temperature': np.random.normal(25, 5, 100),\n",
    "    'voltage': np.random.normal(400, 20, 100),\n",
    "    'current': np.random.normal(10, 2, 100),\n",
    "    'humidity': np.random.normal(30, 5, 100),\n",
    "    'power_output': np.random.normal(2000, 100, 100),\n",
    "    'inverter_status': np.random.choice([0, 1], size=100, p=[0.95, 0.05]),\n",
    "    'failure_status': np.random.choice([0, 1], size=100, p=[0.9, 0.1])\n",
    "}\n",
    "\n",
    "df = pd.DataFrame(data)\n",
    "df.to_csv('../data/solar_power_data.csv', index=False)\n",
    "df.head()\n"
   ]
  }
 ],
 "metadata": {
  "kernelspec": {
   "display_name": "Python 3 (ipykernel)",
   "language": "python",
   "name": "python3"
  },
  "language_info": {
   "codemirror_mode": {
    "name": "ipython",
    "version": 3
   },
   "file_extension": ".py",
   "mimetype": "text/x-python",
   "name": "python",
   "nbconvert_exporter": "python",
   "pygments_lexer": "ipython3",
   "version": "3.12.4"
  }
 },
 "nbformat": 4,
 "nbformat_minor": 5
}
